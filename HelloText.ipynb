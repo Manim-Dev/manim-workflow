{
 "cells": [
  {
   "cell_type": "code",
   "execution_count": 3,
   "id": "a9380ed5-e910-49c3-a110-fe3e50e44374",
   "metadata": {},
   "outputs": [
    {
     "name": "stdout",
     "output_type": "stream",
     "text": [
      "0.19.0\n"
     ]
    }
   ],
   "source": [
    "import manim\n",
    "from manim import *\n",
    "\n",
    "config.media_width = \"75%\"\n",
    "config.verbosity = \"CRITICAL\"\n",
    "print(manim.__version__)"
   ]
  },
  {
   "cell_type": "code",
   "execution_count": 17,
   "id": "1239a3d2-c509-430d-816f-dfe49286eeac",
   "metadata": {},
   "outputs": [
    {
     "data": {
      "text/html": [
       "<pre style=\"white-space:pre;overflow-x:auto;line-height:normal;font-family:Menlo,'DejaVu Sans Mono',consolas,'Courier New',monospace\">Manim Community <span style=\"color: #008000; text-decoration-color: #008000\">v0.19.0</span>\n",
       "\n",
       "</pre>\n"
      ],
      "text/plain": [
       "Manim Community \u001b[32mv0.\u001b[0m\u001b[32m19.0\u001b[0m\n",
       "\n"
      ]
     },
     "metadata": {},
     "output_type": "display_data"
    },
    {
     "name": "stderr",
     "output_type": "stream",
     "text": [
      "                                                                                                                        "
     ]
    },
    {
     "data": {
      "text/html": [
       "<video src=\"media/jupyter/HelloText@2025-04-27@05-31-10.mp4\" controls autoplay loop style=\"max-width: 75%;\"  >\n",
       "      Your browser does not support the <code>video</code> element.\n",
       "    </video>"
      ],
      "text/plain": [
       "<IPython.core.display.Video object>"
      ]
     },
     "metadata": {},
     "output_type": "display_data"
    }
   ],
   "source": [
    "%%manim -qm HelloText\n",
    "\n",
    "class HelloText(Scene):\n",
    "    def construct(self):\n",
    "        tex = Tex(\"Standard Limit\")\\\n",
    "        .move_to(UP)\\\n",
    "        .scale(1.5)\n",
    "        eqn = MathTex(r\"\\lim_{x \\to 0}{\\sin(x) \\over x} = 1\")\\\n",
    "        .set_color(YELLOW)\\\n",
    "        .move_to(DOWN)\\\n",
    "        .scale(1.5)\n",
    "        \n",
    "        self.play(Write(tex, run_time = 2))\n",
    "        self.play(Write(eqn, run_time = 2))\n",
    "        self.wait(2)\n",
    "        self.play(Unwrite(tex), Unwrite(eqn))\n",
    "        self.wait()"
   ]
  },
  {
   "cell_type": "code",
   "execution_count": null,
   "id": "384bca6f-278b-4a35-acd8-3bdc8191f949",
   "metadata": {},
   "outputs": [],
   "source": []
  }
 ],
 "metadata": {
  "kernelspec": {
   "display_name": "Python 3 (ipykernel)",
   "language": "python",
   "name": "python3"
  },
  "language_info": {
   "codemirror_mode": {
    "name": "ipython",
    "version": 3
   },
   "file_extension": ".py",
   "mimetype": "text/x-python",
   "name": "python",
   "nbconvert_exporter": "python",
   "pygments_lexer": "ipython3",
   "version": "3.11.11"
  }
 },
 "nbformat": 4,
 "nbformat_minor": 5
}
